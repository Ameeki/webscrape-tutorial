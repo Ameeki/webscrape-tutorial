{
 "cells": [
  {
   "cell_type": "code",
   "execution_count": 1,
   "metadata": {},
   "outputs": [],
   "source": [
    "# import libraries\n",
    "import urllib.request\n",
    "from bs4 import BeautifulSoup\n",
    "import csv\n",
    "from datascience import *\n",
    "import numpy as np"
   ]
  },
  {
   "cell_type": "markdown",
   "metadata": {},
   "source": [
    "Welcome to the Data Scholars Foundations web scraping tutorial (adapted from Towards Data Science [article](https://towardsdatascience.com/data-science-skills-web-scraping-using-python-d1a85ef607ed))! In the example below, we are scraping from http://www.fasttrack.co.uk/league-tables/tech-track-100/league-table/. To view the HTML, navigate to the site, right click somewhere inside the page, and click \"View Page Source\""
   ]
  },
  {
   "cell_type": "code",
   "execution_count": 7,
   "metadata": {},
   "outputs": [
    {
     "name": "stdout",
     "output_type": "stream",
     "text": [
      "Number of results 101\n"
     ]
    },
    {
     "data": {
      "text/html": [
       "<table border=\"1\" class=\"dataframe\">\n",
       "    <thead>\n",
       "        <tr>\n",
       "            <th>Rank</th> <th>Company Name</th> <th>Location</th> <th>Year end</th> <th>Annual sales rise over 3 years</th> <th>Sales £000s</th> <th>Staff</th> <th>Comments</th>\n",
       "        </tr>\n",
       "    </thead>\n",
       "    <tbody>\n",
       "        <tr>\n",
       "            <td>1   </td> <td>Plan.comCommunications provider           </td> <td>Isle of Man   </td> <td>Sep-17  </td> <td>364.38%                       </td> <td>90         </td> <td>About 650 partners use its telecoms platform to support  ...</td> <td>nan     </td>\n",
       "        </tr>\n",
       "        <tr>\n",
       "            <td>2   </td> <td>PsiOxusBiotechnology developer            </td> <td>Oxfordshire   </td> <td>Dec-17  </td> <td>311.67%                       </td> <td>54         </td> <td>Received a $15m milestone payment from its development p ...</td> <td>nan     </td>\n",
       "        </tr>\n",
       "        <tr>\n",
       "            <td>3   </td> <td>CensorNetCloud security software developer</td> <td>Basingstoke   </td> <td>Dec-17  </td> <td>210.17%                       </td> <td>77         </td> <td>Has more than 4,000 customers, including McDonald’s in F ...</td> <td>nan     </td>\n",
       "        </tr>\n",
       "        <tr>\n",
       "            <td>4   </td> <td>thoughtonomyAutomation software developer </td> <td>East London   </td> <td>May-18  </td> <td>205.20%                       </td> <td>100        </td> <td>It sells to 28 countries and 50% of revenue is generated ...</td> <td>nan     </td>\n",
       "        </tr>\n",
       "        <tr>\n",
       "            <td>5   </td> <td>PerkboxEmployee engagement services       </td> <td>Central London</td> <td>Dec-17  </td> <td>204.12%                       </td> <td>200        </td> <td>Acquired software platform Loyalty Bay for an undisclose ...</td> <td>nan     </td>\n",
       "        </tr>\n",
       "        <tr>\n",
       "            <td>6   </td> <td>OguryMobile data marketing                </td> <td>North London  </td> <td>Dec-17  </td> <td>204.09%                       </td> <td>133        </td> <td>It has access to data from more than 400m mobile phone u ...</td> <td>nan     </td>\n",
       "        </tr>\n",
       "        <tr>\n",
       "            <td>7   </td> <td>VerveMarketing software developer         </td> <td>Central London</td> <td>Dec-17  </td> <td>202.15%                       </td> <td>130        </td> <td>Its network of 25,000 ‘micro-influencers’ have sold half ...</td> <td>nan     </td>\n",
       "        </tr>\n",
       "        <tr>\n",
       "            <td>8   </td> <td>goHenryChildren's pre-paid card developer </td> <td>Central London</td> <td>Dec-17  </td> <td>200.87%                       </td> <td>61         </td> <td>The company is named after the first child to make a tra ...</td> <td>nan     </td>\n",
       "        </tr>\n",
       "        <tr>\n",
       "            <td>9   </td> <td>DarktraceCybersecurity developer          </td> <td>Cambridge     </td> <td>Jun-18  </td> <td>195.51%                       </td> <td>694        </td> <td>Was reportedly valued at $1.25bn in April when Vitruvian ...</td> <td>nan     </td>\n",
       "        </tr>\n",
       "        <tr>\n",
       "            <td>10  </td> <td>BizumaB2B e-commerce platform             </td> <td>Central London</td> <td>Mar-18  </td> <td>181.75%                       </td> <td>48         </td> <td>Originally founded as a flash sales website before chang ...</td> <td>nan     </td>\n",
       "        </tr>\n",
       "    </tbody>\n",
       "</table>\n",
       "<p>... (90 rows omitted)</p>"
      ],
      "text/plain": [
       "Rank | Company Name                               | Location       | Year end | Annual sales rise over 3 years | Sales £000s | Staff                                                        | Comments\n",
       "1    | Plan.comCommunications provider            | Isle of Man    | Sep-17   | 364.38%                        | 90          | About 650 partners use its telecoms platform to support  ... | nan\n",
       "2    | PsiOxusBiotechnology developer             | Oxfordshire    | Dec-17   | 311.67%                        | 54          | Received a $15m milestone payment from its development p ... | nan\n",
       "3    | CensorNetCloud security software developer | Basingstoke    | Dec-17   | 210.17%                        | 77          | Has more than 4,000 customers, including McDonald’s in F ... | nan\n",
       "4    | thoughtonomyAutomation software developer  | East London    | May-18   | 205.20%                        | 100         | It sells to 28 countries and 50% of revenue is generated ... | nan\n",
       "5    | PerkboxEmployee engagement services        | Central London | Dec-17   | 204.12%                        | 200         | Acquired software platform Loyalty Bay for an undisclose ... | nan\n",
       "6    | OguryMobile data marketing                 | North London   | Dec-17   | 204.09%                        | 133         | It has access to data from more than 400m mobile phone u ... | nan\n",
       "7    | VerveMarketing software developer          | Central London | Dec-17   | 202.15%                        | 130         | Its network of 25,000 ‘micro-influencers’ have sold half ... | nan\n",
       "8    | goHenryChildren's pre-paid card developer  | Central London | Dec-17   | 200.87%                        | 61          | The company is named after the first child to make a tra ... | nan\n",
       "9    | DarktraceCybersecurity developer           | Cambridge      | Jun-18   | 195.51%                        | 694         | Was reportedly valued at $1.25bn in April when Vitruvian ... | nan\n",
       "10   | BizumaB2B e-commerce platform              | Central London | Mar-18   | 181.75%                        | 48          | Originally founded as a flash sales website before chang ... | nan\n",
       "... (90 rows omitted)"
      ]
     },
     "execution_count": 7,
     "metadata": {},
     "output_type": "execute_result"
    }
   ],
   "source": [
    "# specify the url\n",
    "urlpage =  'http://www.fasttrack.co.uk/league-tables/tech-track-100/league-table/' \n",
    "# query the website and return the html to the variable 'page'\n",
    "page = urllib.request.urlopen(urlpage)\n",
    "# parse the html using beautiful soup and store in variable 'soup'\n",
    "soup = BeautifulSoup(page, 'html.parser')\n",
    "# find results within table\n",
    "table = soup.find('table', attrs={'class': 'tableSorter'})\n",
    "results = table.find_all('tr')\n",
    "print('Number of results', len(results))\n",
    "\n",
    "# create and write headers to a list \n",
    "rows = []\n",
    "rows.append(['Rank', 'Company Name', 'Location', 'Year end', 'Annual sales rise over 3 years', 'Sales £000s', 'Staff', 'Comments'])\n",
    "\n",
    "# loop over results\n",
    "for result in results:\n",
    "    data = result.find_all('td')\n",
    "    if len(data) == 0:\n",
    "        continue\n",
    "    \n",
    "    rank = data[0].getText()\n",
    "    company = data[1].getText()\n",
    "    location = data[2].getText()\n",
    "    yearend = data[3].getText()\n",
    "    salesrise = data[4].getText()\n",
    "    sales = data[5].getText()\n",
    "    staff = data[6].getText()\n",
    "    comments = data[7].getText()\n",
    "    \n",
    "    rows.append([rank, company, location, yearend, salesrise, staff, comments])    \n",
    "\n",
    "\n",
    "## Create csv and write rows to output file\n",
    "with open('techtrack100.csv','w', newline='') as f_output:\n",
    "    csv_output = csv.writer(f_output)\n",
    "    csv_output.writerows(rows)\n",
    "    \n",
    "tech_track_100 = Table.read_table('techtrack100.csv')\n",
    "tech_track_100"
   ]
  },
  {
   "cell_type": "markdown",
   "metadata": {},
   "source": [
    "Great! Now let's try scraping another website: http://books.toscrape.com/catalogue/category/books/mystery_3/page-1.html"
   ]
  },
  {
   "cell_type": "code",
   "execution_count": 10,
   "metadata": {},
   "outputs": [
    {
     "name": "stdout",
     "output_type": "stream",
     "text": [
      "Number of results 20\n"
     ]
    },
    {
     "data": {
      "text/html": [
       "<table border=\"1\" class=\"dataframe\">\n",
       "    <thead>\n",
       "        <tr>\n",
       "            <th>title</th> <th>upc</th> <th>prod_type</th> <th>price</th> <th>price_after_tax</th> <th>tax</th> <th>availability</th> <th>num_reviews</th>\n",
       "        </tr>\n",
       "    </thead>\n",
       "    <tbody>\n",
       "        <tr>\n",
       "            <td>e00eb4fd7b871a48</td> <td>Books</td> <td>£47.82   </td> <td>£47.82</td> <td>£0.00          </td> <td>In stock (20 available)</td> <td>0           </td> <td>nan        </td>\n",
       "        </tr>\n",
       "        <tr>\n",
       "            <td>19ed25f4641d5efd</td> <td>Books</td> <td>£19.63   </td> <td>£19.63</td> <td>£0.00          </td> <td>In stock (18 available)</td> <td>0           </td> <td>nan        </td>\n",
       "        </tr>\n",
       "        <tr>\n",
       "            <td>5ee94540d0749ea0</td> <td>Books</td> <td>£56.50   </td> <td>£56.50</td> <td>£0.00          </td> <td>In stock (16 available)</td> <td>0           </td> <td>nan        </td>\n",
       "        </tr>\n",
       "        <tr>\n",
       "            <td>f733e8c19d40ec2e</td> <td>Books</td> <td>£16.64   </td> <td>£16.64</td> <td>£0.00          </td> <td>In stock (16 available)</td> <td>0           </td> <td>nan        </td>\n",
       "        </tr>\n",
       "        <tr>\n",
       "            <td>c7b5183f4d1d4efe</td> <td>Books</td> <td>£44.10   </td> <td>£44.10</td> <td>£0.00          </td> <td>In stock (15 available)</td> <td>0           </td> <td>nan        </td>\n",
       "        </tr>\n",
       "        <tr>\n",
       "            <td>3bc89353f7e3a3cc</td> <td>Books</td> <td>£54.21   </td> <td>£54.21</td> <td>£0.00          </td> <td>In stock (14 available)</td> <td>0           </td> <td>nan        </td>\n",
       "        </tr>\n",
       "        <tr>\n",
       "            <td>0c7b9cf2b7662b65</td> <td>Books</td> <td>£13.92   </td> <td>£13.92</td> <td>£0.00          </td> <td>In stock (14 available)</td> <td>0           </td> <td>nan        </td>\n",
       "        </tr>\n",
       "        <tr>\n",
       "            <td>2d1e337aaf341858</td> <td>Books</td> <td>£10.69   </td> <td>£10.69</td> <td>£0.00          </td> <td>In stock (14 available)</td> <td>0           </td> <td>nan        </td>\n",
       "        </tr>\n",
       "        <tr>\n",
       "            <td>4416c474713ec1f5</td> <td>Books</td> <td>£48.35   </td> <td>£48.35</td> <td>£0.00          </td> <td>In stock (14 available)</td> <td>0           </td> <td>nan        </td>\n",
       "        </tr>\n",
       "        <tr>\n",
       "            <td>63ee5bc46066a8a8</td> <td>Books</td> <td>£16.73   </td> <td>£16.73</td> <td>£0.00          </td> <td>In stock (14 available)</td> <td>0           </td> <td>nan        </td>\n",
       "        </tr>\n",
       "    </tbody>\n",
       "</table>\n",
       "<p>... (10 rows omitted)</p>"
      ],
      "text/plain": [
       "title            | upc   | prod_type | price  | price_after_tax | tax                     | availability | num_reviews\n",
       "e00eb4fd7b871a48 | Books | £47.82    | £47.82 | £0.00           | In stock (20 available) | 0            | nan\n",
       "19ed25f4641d5efd | Books | £19.63    | £19.63 | £0.00           | In stock (18 available) | 0            | nan\n",
       "5ee94540d0749ea0 | Books | £56.50    | £56.50 | £0.00           | In stock (16 available) | 0            | nan\n",
       "f733e8c19d40ec2e | Books | £16.64    | £16.64 | £0.00           | In stock (16 available) | 0            | nan\n",
       "c7b5183f4d1d4efe | Books | £44.10    | £44.10 | £0.00           | In stock (15 available) | 0            | nan\n",
       "3bc89353f7e3a3cc | Books | £54.21    | £54.21 | £0.00           | In stock (14 available) | 0            | nan\n",
       "0c7b9cf2b7662b65 | Books | £13.92    | £13.92 | £0.00           | In stock (14 available) | 0            | nan\n",
       "2d1e337aaf341858 | Books | £10.69    | £10.69 | £0.00           | In stock (14 available) | 0            | nan\n",
       "4416c474713ec1f5 | Books | £48.35    | £48.35 | £0.00           | In stock (14 available) | 0            | nan\n",
       "63ee5bc46066a8a8 | Books | £16.73    | £16.73 | £0.00           | In stock (14 available) | 0            | nan\n",
       "... (10 rows omitted)"
      ]
     },
     "execution_count": 10,
     "metadata": {},
     "output_type": "execute_result"
    }
   ],
   "source": [
    "# specify the url\n",
    "urlpage =  'http://books.toscrape.com/catalogue/category/books/mystery_3/page-1.html' \n",
    "\n",
    "# query the website and return the html to the variable 'page'\n",
    "page = urllib.request.urlopen(urlpage)\n",
    "# parse the html using beautiful soup and store in variable 'soup'\n",
    "soup = BeautifulSoup(page, 'html.parser')\n",
    "\n",
    "# create and write headers to a list\n",
    "rows = []\n",
    "rows.append([\"title\", \"upc\", \"prod_type\", \"price\", \"price_after_tax\", \"tax\", \"availability\", \"num_reviews\"])\n",
    "\n",
    "# find results\n",
    "ol = soup.find('ol', attrs={'class': 'row'})\n",
    "results = ol.find_all('article')\n",
    "print('Number of results', len(results))\n",
    "\n",
    "# loop over results\n",
    "for result in results:\n",
    "\n",
    "    title = result.find('h3').find('a').get('title')\n",
    "    \n",
    "    url_suffix = result.find('a').get('href').split(\"../\")[-1]\n",
    "    url = \"http://books.toscrape.com/catalogue/\" + url_suffix\n",
    "    \n",
    "    page = urllib.request.urlopen(url)\n",
    "    \n",
    "    soup = BeautifulSoup(page, 'html.parser')\n",
    "    \n",
    "    data = soup.find('table', attrs={'class': 'table table-striped'}).find_all('td')\n",
    "    \n",
    "    if len(data) == 0:\n",
    "        continue \n",
    "        \n",
    "    upc = data[0].getText()\n",
    "    prod_type = data[1].getText()\n",
    "    price = data[2].getText()\n",
    "    price_after_tax = data[3].getText()\n",
    "    tax = data[4].getText()\n",
    "    availability = data[5].getText()\n",
    "    num_reviews = data[6].getText()\n",
    "    \n",
    "    rows.append([upc, prod_type, price, price_after_tax, tax, availability, num_reviews])\n",
    "\n",
    "    \n",
    "# Create csv and write rows to output file\n",
    "with open('books.csv','w', newline='') as f_output:\n",
    "    csv_output = csv.writer(f_output)\n",
    "    csv_output.writerows(rows)\n",
    "\n",
    "# read csv into a table\n",
    "books = Table.read_table('books.csv')\n",
    "books"
   ]
  },
  {
   "cell_type": "markdown",
   "metadata": {},
   "source": [
    "Awesome! Now we can analyze the data in the tables just like how we've been doing in Data 8. What are some discoveries you've made? "
   ]
  },
  {
   "cell_type": "code",
   "execution_count": 16,
   "metadata": {},
   "outputs": [
    {
     "data": {
      "text/html": [
       "<table border=\"1\" class=\"dataframe\">\n",
       "    <thead>\n",
       "        <tr>\n",
       "            <th>Location</th> <th>count</th>\n",
       "        </tr>\n",
       "    </thead>\n",
       "    <tbody>\n",
       "        <tr>\n",
       "            <td>Basingstoke   </td> <td>1    </td>\n",
       "        </tr>\n",
       "        <tr>\n",
       "            <td>Bath          </td> <td>1    </td>\n",
       "        </tr>\n",
       "        <tr>\n",
       "            <td>Belfast       </td> <td>1    </td>\n",
       "        </tr>\n",
       "        <tr>\n",
       "            <td>Birmingham    </td> <td>1    </td>\n",
       "        </tr>\n",
       "        <tr>\n",
       "            <td>Bolton        </td> <td>1    </td>\n",
       "        </tr>\n",
       "        <tr>\n",
       "            <td>Cambridge     </td> <td>4    </td>\n",
       "        </tr>\n",
       "        <tr>\n",
       "            <td>Cambridgeshire</td> <td>1    </td>\n",
       "        </tr>\n",
       "        <tr>\n",
       "            <td>Central London</td> <td>36   </td>\n",
       "        </tr>\n",
       "        <tr>\n",
       "            <td>Cheshire      </td> <td>1    </td>\n",
       "        </tr>\n",
       "        <tr>\n",
       "            <td>East London   </td> <td>8    </td>\n",
       "        </tr>\n",
       "    </tbody>\n",
       "</table>\n",
       "<p>... (24 rows omitted)</p>"
      ],
      "text/plain": [
       "Location       | count\n",
       "Basingstoke    | 1\n",
       "Bath           | 1\n",
       "Belfast        | 1\n",
       "Birmingham     | 1\n",
       "Bolton         | 1\n",
       "Cambridge      | 4\n",
       "Cambridgeshire | 1\n",
       "Central London | 36\n",
       "Cheshire       | 1\n",
       "East London    | 8\n",
       "... (24 rows omitted)"
      ]
     },
     "execution_count": 16,
     "metadata": {},
     "output_type": "execute_result"
    }
   ],
   "source": [
    "tech_track_100.group('Location')"
   ]
  },
  {
   "cell_type": "code",
   "execution_count": null,
   "metadata": {},
   "outputs": [],
   "source": []
  }
 ],
 "metadata": {
  "kernelspec": {
   "display_name": "Python 3",
   "language": "python",
   "name": "python3"
  },
  "language_info": {
   "codemirror_mode": {
    "name": "ipython",
    "version": 3
   },
   "file_extension": ".py",
   "mimetype": "text/x-python",
   "name": "python",
   "nbconvert_exporter": "python",
   "pygments_lexer": "ipython3",
   "version": "3.6.9"
  }
 },
 "nbformat": 4,
 "nbformat_minor": 2
}
